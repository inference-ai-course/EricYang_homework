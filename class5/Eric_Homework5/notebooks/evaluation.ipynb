{
 "cells": [
  {
   "cell_type": "markdown",
   "id": "2f4cdd13",
   "metadata": {},
   "source": [
    "# Week 5 Evaluation Notebook\n",
    "Run `python -m eval.run_eval --k 3 --method rrf` from terminal for CLI metrics.\n",
    "Use this notebook if you prefer interactive exploration."
   ]
  }
 ],
 "metadata": {
  "kernelspec": {
   "display_name": "Python 3",
   "language": "python",
   "name": "python3"
  }
 },
 "nbformat": 4,
 "nbformat_minor": 5
}
